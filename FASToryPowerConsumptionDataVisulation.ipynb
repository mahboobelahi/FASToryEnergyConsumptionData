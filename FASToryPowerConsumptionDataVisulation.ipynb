{
 "cells": [
  {
   "cell_type": "code",
   "execution_count": 1,
   "metadata": {},
   "outputs": [],
   "source": [
    "#importing required Libraries\n",
    "import pandas as pd\n",
    "import numpy as np\n",
    "import matplotlib.pyplot as plt\n",
    "import seaborn as sns\n",
    "%matplotlib inline"
   ]
  },
  {
   "cell_type": "code",
   "execution_count": null,
   "metadata": {},
   "outputs": [],
   "source": [
    "file_name = \"./data/UnProcessedStaticCaseData/FASToryPowerConsumptionData_UnProcessed.csv\"\n",
    "df= pd.read_csv(file_name)\n",
    "#data summary\n",
    "df.describe()"
   ]
  },
  {
   "cell_type": "markdown",
   "metadata": {},
   "source": [
    "# Utility Functions"
   ]
  },
  {
   "cell_type": "code",
   "execution_count": 3,
   "metadata": {},
   "outputs": [],
   "source": [
    "def customize_DF_reading(df, beltTension, LoadCombinations):\n",
    "    \"\"\"\n",
    "    This function takes three arguments and returns a data frame:\n",
    "    1. data frame\n",
    "    2. beltTension: List or an int (query parameter)\n",
    "    3. loadAlais: list or int (query parameter)\n",
    "\n",
    "    This function returns a customized data frame based on respective query parameters and median\n",
    "    \"\"\"\n",
    "    data_frame=pd.DataFrame()\n",
    "    median=[]\n",
    "    if (isinstance(beltTension,list) and isinstance(LoadCombinations,list)):\n",
    "            for tension in beltTension:\n",
    "                for load in LoadCombinations:\n",
    "                    temp=df.loc[(df['%Belt Tension']==tension) &(df['Load Combinations']==load)]\n",
    "                    median.append(round(temp['Power (W)'].median(),1))\n",
    "                    data_frame=pd.concat([data_frame,temp])\n",
    "\n",
    "    return (data_frame,median)"
   ]
  },
  {
   "cell_type": "markdown",
   "metadata": {},
   "source": [
    "# Note about CNV data collection:\n",
    "\n",
    "1. Main coneyor has 4 zones labled as Z1,Z2,Z3,Z5. This CNV can process up to 4 pallets.\n",
    "2. These zones generates 16 different combinations for residing a pallet (load)for processing on main conveyor. Pallet quantity and position (Load) is varied on CNV according to these combinations which helps to track, how pallet quantity and position affct power consumed by conveyor motor driver.\n",
    "3. These Combinations are listed below:\n",
    "\n",
    "| Combination Number | Combination | Description|\n",
    "|:--------------------|:-------------|:------------|\n",
    "|0 | 0000 | No Load\n",
    "|1 | 1000 | 1 Pallet at Z1\n",
    "|2 | 0100 | 1 Pallet at Z2\n",
    "|3 | 1100 | 2 pallets; 1 pallet at each zone (Z1,Z2)\n",
    "|4 | 0010 | 1 Pallet at Z3\n",
    "|5 | 1010 | 2 pallets; 1 pallet at each zone (Z1,Z3)\n",
    "|6 | 0110 | 2 pallets; 1 pallet at each zone (Z3,Z3)\n",
    "|7 | 1110 | 3 pallets; 1 pallet at each zone (Z1,Z2,Z3)\n",
    "|8 | 0001 | 1 Pallet at Z5\n",
    "|9 | 1001 | 2 pallets; 1 pallet at each zone (Z1,Z5)\n",
    "|10 | 0101| 2 pallets; 1 pallet at each zone (Z2,Z5)\n",
    "|11| 1101 | 3 pallets; 1 pallet at each zone (Z1,Z2,Z5)\n",
    "|12| 0011 | 2 pallets; 1 pallet at each zone (Z3,Z5)\n",
    "|13| 1011 | 3 pallets; 1 pallet at each zone (Z1,Z3,Z5)\n",
    "|14| 0111 | 3 pallets; 1 pallet at each zone (Z2,Z3,Z5)\n",
    "|15| 1111 | 4 pallets; 1 pallet at each zone (Z1,Z2,Z3,Z5)\n",
    "    "
   ]
  },
  {
   "cell_type": "code",
   "execution_count": 6,
   "metadata": {},
   "outputs": [],
   "source": [
    "def plot_data(df_concat,fig_name='None',title='None',df_x='Load Combinations',\n",
    "                compare_against='%Belt Tension',x_label='',y_min=222,y_max=245,step=1):\n",
    "\n",
    "    if step>1:\n",
    "        fig, ax = plt.subplots(figsize=(17,12))#10,7 13,8,15,8\n",
    "    else:\n",
    "        fig, ax = plt.subplots(figsize=(10,7))#10,7 13,8,15,8\n",
    "    plt.ylim([y_min-2,y_max+4])\n",
    "    plt.yticks(np.arange(y_min-2,y_max+4,step))\n",
    "    # remove all borders except bottom\n",
    "    sns.despine(top=True,\n",
    "                right=True,\n",
    "                left=True,\n",
    "                bottom=False)\n",
    "\n",
    "\n",
    "    my_palette=sns.color_palette(\"deep\")\n",
    "    box_plot=sns.boxplot(y=df_concat['Power (W)'], x=df_concat[df_x],\n",
    "                data=df_concat, orient='v',width=0.7,#0.7\n",
    "                palette=my_palette,\n",
    "                hue=df_concat[compare_against],\n",
    "                showmeans=True,\n",
    "                meanprops={\"marker\":\"o\",\"markerfacecolor\":\"white\",\n",
    "                \"markeredgecolor\":\"blue\",\"markersize\":\"5\"}) \n",
    "\n",
    "    plt.xlabel(x_label, fontsize=15)#Load Combinations %Belt Tension\n",
    "    plt.ylabel(\"Power Consumption (W)\",fontsize=15)\n",
    "    plt.tight_layout()\n",
    "    sns.set(style='whitegrid')\n",
    "    #plt.savefig('fig_name.png', dpi=500)\n",
    "    plt.show()\n",
    "\n",
    " \n"
   ]
  },
  {
   "cell_type": "code",
   "execution_count": null,
   "metadata": {},
   "outputs": [],
   "source": [
    "#plotting conveyor belt power consumption against belt tension for each load combination \n",
    "df\n",
    "belt_tension = np.array(\n",
    "                    [\n",
    "                        [0,15,30,45,60,70],[75],[85],[95],\n",
    "                    ],dtype=object\n",
    "                    )#[0,1],\n",
    "load_combination = np.array(\n",
    "                     [\n",
    "                         [0,1,2,4,8],[3,5,6,9,10,12],[7,11,13,14,15],\n",
    "                         [0,1,2,3,4,5,6,7,8,9,10,11,12,13,14,15]\n",
    "                     ],dtype=object\n",
    "                    )\n",
    "\n",
    "\n",
    "for i in range(len(belt_tension)):    \n",
    "    for j in range(len(load_combination)):\n",
    "        df_concat,median=customize_DF_reading(df, belt_tension[i],load_combination[j])\n",
    "        if not(df_concat.empty):\n",
    "            df_min,df_max =(df_concat[\"Power (W)\"].min(),df_concat[\"Power (W)\"].max())\n",
    "            plot_data(  df_concat,fig_name=f'BTvsPowerWithLoadCombinationas_hue{i}_{j}',title='None',\n",
    "                        compare_against='Load Combinations',df_x='%Belt Tension',\n",
    "                        x_label=\"%Belt Tension\",y_min=df_min,y_max=df_max)"
   ]
  },
  {
   "cell_type": "code",
   "execution_count": null,
   "metadata": {},
   "outputs": [],
   "source": [
    "#plotting conveyor belt power consumption against load combination for each belt tension \n",
    "df\n",
    "belt_tension = np.array(\n",
    "                    [\n",
    "                        [0,15,30,45,60,70],[75,85],[0,15,30,45,60,70,75,85],[75,85,95]\n",
    "                    ],dtype=object\n",
    "                    )\n",
    "load_combination = np.array(\n",
    "                     [\n",
    "                         [0,1,2,4,8],[3,5,6,9,10,12],[7,11,13,14,15],\n",
    "                         [0,1,2,3,4,5,6,7,8,9,10,11,12,13,14,15]\n",
    "                     ],dtype=object\n",
    "                    )\n",
    "\n",
    "step =1\n",
    "for i in range(len(belt_tension)): \n",
    "    if i==2:\n",
    "        step=2 \n",
    "    if i==3:\n",
    "        step=3 \n",
    "    for j in range(len(load_combination)):\n",
    "        df_concat,median=customize_DF_reading(df, belt_tension[i],load_combination[j])\n",
    "\n",
    "        if not(df_concat.empty):\n",
    "            df_min,df_max =(df_concat[\"Power (W)\"].min(),df_concat[\"Power (W)\"].max())\n",
    "            if i>=2 and (j==1 or j==2):\n",
    "                pass\n",
    "            else:\n",
    "                plot_data(  df_concat,fig_name=1,title='None',\n",
    "                            compare_against='%Belt Tension',df_x='Load Combinations',\n",
    "                            x_label=\"Load Combinations\",y_min=df_min,y_max=df_max,step=step)"
   ]
  }
 ],
 "metadata": {
  "kernelspec": {
   "display_name": "Python 3.8.10 ('env': venv)",
   "language": "python",
   "name": "python3"
  },
  "language_info": {
   "codemirror_mode": {
    "name": "ipython",
    "version": 3
   },
   "file_extension": ".py",
   "mimetype": "text/x-python",
   "name": "python",
   "nbconvert_exporter": "python",
   "pygments_lexer": "ipython3",
   "version": "3.8.10"
  },
  "orig_nbformat": 4,
  "vscode": {
   "interpreter": {
    "hash": "2fe682157fb9fbdc2d281994f7ea65b67a3b9cfb4d7e9aae0f525c1bb50293be"
   }
  }
 },
 "nbformat": 4,
 "nbformat_minor": 2
}
